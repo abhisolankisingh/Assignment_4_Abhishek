{
 "cells": [
  {
   "cell_type": "code",
   "execution_count": 10,
   "metadata": {},
   "outputs": [
    {
     "name": "stdout",
     "output_type": "stream",
     "text": [
      " Please Enter the Value of First Side  :-10\n",
      " Please Enter the Value of Second Side :-12\n",
      " Please Enter the Value of Third Side  :-14\n",
      "58.787753826796276\n"
     ]
    }
   ],
   "source": [
    "#1.1 Write a Python Program(with class concepts) to find the area of the triangle using the below formula.\n",
    "# area = (s*(s-a)*(s-b)*(s-c)) ** 0.5\n",
    "# Function to take the length of the sides of triangle from user should be defined in the parent class and function to calculate the area should be defined in subclass.\n",
    "\n",
    "a = float(input(\" Please Enter the Value of First Side  :-\"))\n",
    "b = float(input(\" Please Enter the Value of Second Side :-\"))\n",
    "c = float(input(\" Please Enter the Value of Third Side  :-\"))\n",
    "class Triangle():\n",
    "    def __init__(self,a,b,c):\n",
    "        self.a = a\n",
    "        self.b = b\n",
    "        self.c = c\n",
    "    def Area(self):\n",
    "        s=(a + b + c)/2\n",
    "        Area = (s*(s-a)*(s-b)*(s-c)) ** 0.5\n",
    "        return Area\n",
    "Area_of_Triangle = Triangle(a, b, c)\n",
    "print(Area_of_Triangle.Area())"
   ]
  },
  {
   "cell_type": "code",
   "execution_count": 12,
   "metadata": {},
   "outputs": [
    {
     "name": "stdout",
     "output_type": "stream",
     "text": [
      "['aaaa', 'aaaaa', 'aaaaaa']\n"
     ]
    }
   ],
   "source": [
    "#1.2 Write a function filter_long_words() that takes a list of words and an integer n and returns the list of words that are longer than n.\n",
    "\n",
    "\n",
    "def filter_long_words(inputListword,number):\n",
    " \n",
    "    list_Of_Words = []\n",
    " \n",
    "    for i in range(len(inputListword)):\n",
    "        if len(inputListword[i]) > number:\n",
    "            list_Of_Words.append(inputListword[i])\n",
    " \n",
    "    return list_Of_Words\n",
    " \n",
    "word_list = ['aa','aaa','aaaa','aaaaa','aaaaaa']\n",
    "n = 3\n",
    " \n",
    "print (str(filter_long_words(word_list,n)))"
   ]
  },
  {
   "cell_type": "code",
   "execution_count": 14,
   "metadata": {},
   "outputs": [
    {
     "name": "stdout",
     "output_type": "stream",
     "text": [
      "I/O : Please enter Words : ab, cde, etry\n",
      "O/P: Length of Words are : [2, 3, 4]\n"
     ]
    }
   ],
   "source": [
    "# 2.1 Write a Python program using function concept that maps list of words into a list of integers representing the lengths of the corresponding words.\n",
    "# Hint: If a list [ ab,cde,erty] is passed on to the python function output should come as [2,3,4]\n",
    "# Here 2,3 and 4 are the lengths of the words in the list.\n",
    "\n",
    "\n",
    "def map_Words(Z):\n",
    "    return list(map(len, Z))\n",
    "\n",
    "A =list(input(\"I/O : Please enter Words : \").split(\",\"))\n",
    "Z = [x.strip() for x in A]\n",
    "B = map_Words(Z)\n",
    "\n",
    "print(\"O/P: Length of Words are :\",B)\n"
   ]
  },
  {
   "cell_type": "code",
   "execution_count": 16,
   "metadata": {},
   "outputs": [
    {
     "name": "stdout",
     "output_type": "stream",
     "text": [
      "Enter character to check that it is Vowel or not\n",
      "Input Value: u\n",
      "Output Value: True\n"
     ]
    }
   ],
   "source": [
    "#2.2 Write a Python function which takes a character (i.e. a string of length 1) and returns True if it is a vowel, False otherwise\n",
    "\n",
    "def is_vowel(Char):\n",
    "\n",
    "    return_value= \"\"\n",
    "    if(len(Char)==1):\n",
    "        vowel_list=[\"a\",\"e\",\"i\",\"o\",\"u\"]\n",
    "        if (Char in vowel_list):\n",
    "            return_value= True\n",
    "        else:\n",
    "            return_value= False\n",
    "    else:\n",
    "        return_value=\"Please enter single character only!\"        \n",
    "    return return_value\n",
    "\n",
    "print(\"Enter character to check that it is Vowel or not\")\n",
    "input_value= input(\"Input Value: \")\n",
    "\n",
    "output_value=is_vowel(input_value) \n",
    "\n",
    "print(\"Output Value:\",output_value)"
   ]
  },
  {
   "cell_type": "code",
   "execution_count": null,
   "metadata": {},
   "outputs": [],
   "source": []
  }
 ],
 "metadata": {
  "kernelspec": {
   "display_name": "Python 3",
   "language": "python",
   "name": "python3"
  },
  "language_info": {
   "codemirror_mode": {
    "name": "ipython",
    "version": 3
   },
   "file_extension": ".py",
   "mimetype": "text/x-python",
   "name": "python",
   "nbconvert_exporter": "python",
   "pygments_lexer": "ipython3",
   "version": "3.6.5"
  }
 },
 "nbformat": 4,
 "nbformat_minor": 2
}
